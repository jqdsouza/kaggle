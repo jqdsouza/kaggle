{
  "cells": [
    {
      "metadata": {
        "_uuid": "8f2839f25d086af736a60e9eeb907d3b93b6e0e5",
        "_cell_guid": "b1076dfc-b9ad-4769-8c92-a6c4dae69d19",
        "trusted": true
      },
      "cell_type": "code",
      "source": "# This Python 3 environment comes with many helpful analytics libraries installed\n# It is defined by the kaggle/python docker image: https://github.com/kaggle/docker-python\n# For example, here's several helpful packages to load in \n\nimport numpy as np # linear algebra\nimport pandas as pd # data processing, CSV file I/O (e.g. pd.read_csv)\n\n# Input data files are available in the \"../input/\" directory.\n# For example, running this (by clicking run or pressing Shift+Enter) will list the files in the input directory\n\nimport os\nprint(os.listdir(\"../input\"))\n\n# Any results you write to the current directory are saved as output.",
      "execution_count": null,
      "outputs": []
    },
    {
      "metadata": {
        "_cell_guid": "79c7e3d0-c299-4dcb-8224-4455121ee9b0",
        "_uuid": "d629ff2d2480ee46fbb7e2d37f6b5fab8052498a",
        "trusted": true
      },
      "cell_type": "code",
      "source": "import matplotlib.pyplot as plt\nimport os\nfrom sklearn.ensemble import RandomForestClassifier\nfrom collections import Counter\nfrom sklearn.metrics import classification_report\nfrom imblearn.over_sampling import SMOTE",
      "execution_count": null,
      "outputs": []
    },
    {
      "metadata": {
        "trusted": true,
        "_uuid": "289899fcdd8c3ffb1dce7c799873e47df7734cce"
      },
      "cell_type": "code",
      "source": "train_df = pd.read_csv('../input/train.csv')\ntest_df = pd.read_csv('../input/test.csv')",
      "execution_count": null,
      "outputs": []
    },
    {
      "metadata": {
        "trusted": true,
        "_uuid": "492e83a2b9b3c36f2def673a5c8d6f9645623818"
      },
      "cell_type": "code",
      "source": "print(\"Training dataframe shape:\", train_df.shape)\nprint(\"Test dataframe shape:\", test_df.shape)",
      "execution_count": null,
      "outputs": []
    },
    {
      "metadata": {
        "trusted": true,
        "_uuid": "367817a1d0d0b64c97d41b35b0739b23be543ba1"
      },
      "cell_type": "code",
      "source": "train_df = train_df.fillna(0)\ntrain_df.tail()",
      "execution_count": null,
      "outputs": []
    },
    {
      "metadata": {
        "trusted": true,
        "_uuid": "28b8714fa3f8bd5c605882e23df448902636e387"
      },
      "cell_type": "code",
      "source": "one_df = train_df[train_df['Target'] == 1]\ntwo_df = train_df[train_df['Target'] == 2]\nthree_df = train_df[train_df['Target'] == 3]\nfour_df = train_df[train_df['Target'] == 4]\nprint(len(one_df), len(two_df), len(three_df), len(four_df))",
      "execution_count": null,
      "outputs": []
    },
    {
      "metadata": {
        "trusted": true,
        "_uuid": "9b950fcdf36e5a2a2275bf35f73f97877af1f26a"
      },
      "cell_type": "code",
      "source": "# SMOTE\nnon_inputs = ['Id', 'Target']\nsmote = SMOTE(kind = \"regular\")\n\nx_resampled = train_df[[c for c in train_df if c not in non_inputs]]\nx_resampled = x_resampled[[c for c in x_resampled if x_resampled[c].dtype != 'O']]\ny_resampled = train_df[['Target']]\nx_res, y_res = smote.fit_sample(x_resampled, y_resampled)\n\ntrain_y = pd.DataFrame({'Target':y_res[:]})\ntrain_x = pd.DataFrame(x_res, columns = x_resampled.columns)",
      "execution_count": null,
      "outputs": []
    },
    {
      "metadata": {
        "trusted": true,
        "_uuid": "eccf5cb085313cfdf07d5ee4177498e38e014acd"
      },
      "cell_type": "code",
      "source": "## Brute force oversampling\n\"\"\"\none_df = one_df.sample(len(four_df), replace = True)\ntwo_df = two_df.sample(len(four_df), replace = True)\nthree_df = three_df.sample(len(four_df), replace = True)\nfour_df = four_df.sample(len(four_df), replace = True)\nprint(len(one_df), len(two_df), len(three_df), len(four_df))\n\n# new_training_df = pd.concat([one_df, two_df, three_df, four_df], axis = 0)\n# new_training_df.head()\n\n# train_x = new_training_df[[c for c in new_training_df if c not in non_inputs]]\n# train_y = new_training_df[['Target']]\n\n# train_x = train_x[[c for c in train_x if train_x[c].dtype != 'O']]\n# train_y = train_y[[c for c in train_y if train_y[c].dtype != 'O']]\n\"\"\"",
      "execution_count": null,
      "outputs": []
    },
    {
      "metadata": {
        "trusted": true,
        "_uuid": "475191f253b4acb586a8cf8f6082179f28afb1d8"
      },
      "cell_type": "code",
      "source": "clf = RandomForestClassifier(max_depth=12, random_state=0, n_estimators=15)\nclf.fit(train_x, train_y)",
      "execution_count": null,
      "outputs": []
    },
    {
      "metadata": {
        "trusted": true,
        "_uuid": "c7f89a11723bf6befa1dcc16c3a2f3a3ebfd851a"
      },
      "cell_type": "code",
      "source": "predictions = list(clf.predict(train_x))\ntrue = train_y['Target'].tolist()\nprint(classification_report(true, predictions))",
      "execution_count": null,
      "outputs": []
    },
    {
      "metadata": {
        "trusted": true,
        "_uuid": "2c51341145d49ea38aed489d700d94b733285045"
      },
      "cell_type": "code",
      "source": "importances = clf.feature_importances_\nstd = np.std([tree.feature_importances_ for tree in clf.estimators_],\n             axis=0)\nindices = np.argsort(importances)[::-1]\n\n# Print the feature ranking\nprint(\"Feature ranking:\")\nimport_features = []\nfor f in range(train_x.shape[1]):\n    print(\"%d. feature %d (%f)\" % (f + 1, indices[f], importances[indices[f]]))\n    import_features.append(indices[f])\n\n# Plot the feature importances of the forest\nplt.figure()\nplt.figure(figsize=(20,20))\nplt.title(\"Feature importances\")\nplt.bar(range(train_x.shape[1]), importances[indices],\n       color=\"r\", yerr=std[indices], align=\"center\")\nplt.xticks(range(train_x.shape[1]), indices)\nplt.xlim([-1, train_x.shape[1]])\nplt.show()",
      "execution_count": null,
      "outputs": []
    },
    {
      "metadata": {
        "trusted": true,
        "_uuid": "763784224aee249b19028b373fa5235fac478ab6"
      },
      "cell_type": "code",
      "source": "test_df = test_df.fillna(0)",
      "execution_count": null,
      "outputs": []
    },
    {
      "metadata": {
        "trusted": true,
        "_uuid": "6dd2a4e608b19c130a85d4ad488428311cd5074d"
      },
      "cell_type": "code",
      "source": "test_x = test_df[[c for c in test_df if c not in non_inputs]]\ntest_x.head()",
      "execution_count": null,
      "outputs": []
    },
    {
      "metadata": {
        "trusted": true,
        "_uuid": "64e399c36e379ec3b3bf0b9b865c595b4167ad21"
      },
      "cell_type": "code",
      "source": "test_x = test_x[[c for c in test_x if test_x[c].dtype != 'O']]\ntest_x.head()",
      "execution_count": null,
      "outputs": []
    },
    {
      "metadata": {
        "trusted": true,
        "_uuid": "b756ec6da9a07e6a8a89653c6d97d899917f6b7f"
      },
      "cell_type": "code",
      "source": "Counter(clf.predict(test_x))",
      "execution_count": null,
      "outputs": []
    },
    {
      "metadata": {
        "trusted": true,
        "_uuid": "87e4ac2ab23e1ca1faf74a51ae9e10bcff368990"
      },
      "cell_type": "code",
      "source": "ids = test_df['Id'].tolist()\ntargets = list(clf.predict(test_x))",
      "execution_count": null,
      "outputs": []
    },
    {
      "metadata": {
        "trusted": true,
        "_uuid": "0acd9a2cdef269863186d3d71fc9e6ab1bafe7ca"
      },
      "cell_type": "code",
      "source": "submission = pd.DataFrame(list(zip(ids, targets)), columns=['Id', 'Target'])\nsubmission.to_csv('sample_submission.csv', index=False)",
      "execution_count": null,
      "outputs": []
    }
  ],
  "metadata": {
    "kernelspec": {
      "display_name": "Python 3",
      "language": "python",
      "name": "python3"
    },
    "language_info": {
      "name": "python",
      "version": "3.6.6",
      "mimetype": "text/x-python",
      "codemirror_mode": {
        "name": "ipython",
        "version": 3
      },
      "pygments_lexer": "ipython3",
      "nbconvert_exporter": "python",
      "file_extension": ".py"
    }
  },
  "nbformat": 4,
  "nbformat_minor": 1
}